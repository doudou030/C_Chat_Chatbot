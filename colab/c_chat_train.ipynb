{
  "nbformat": 4,
  "nbformat_minor": 0,
  "metadata": {
    "colab": {
      "provenance": []
    },
    "kernelspec": {
      "name": "python3",
      "display_name": "Python 3"
    },
    "language_info": {
      "name": "python"
    },
    "accelerator": "GPU"
  },
  "cells": [
    {
      "cell_type": "markdown",
      "source": [
        "# Requirement\n",
        "numpy==1.23.4\n",
        "\n",
        "pandas==1.5.3\n",
        "\n",
        "tensorflow==2.10.1\n",
        "\n",
        "tqdm==4.65.0"
      ],
      "metadata": {
        "id": "mftkI0zPgMTo"
      }
    },
    {
      "cell_type": "markdown",
      "source": [
        "# import library & parameters\n"
      ],
      "metadata": {
        "id": "1OxhMDYz0aVy"
      }
    },
    {
      "cell_type": "code",
      "metadata": {
        "id": "AVuNvVDbgNyG"
      },
      "source": [
        "import os\n",
        "import numpy as np\n",
        "import pandas as pd\n",
        "from tqdm import tqdm\n",
        "import jieba\n",
        "import re\n",
        "from sklearn.utils import shuffle\n",
        "import tensorflow as tf\n",
        "from tensorflow.keras.layers import Input, LSTM, Dense, Embedding\n",
        "from tensorflow.keras.models import Model\n",
        "from tensorflow.keras.callbacks import EarlyStopping, ModelCheckpoint\n",
        "\n",
        "### Control tensorflow won't occupied all your GPU memory\n",
        "os.environ['TF_FORCE_GPU_ALLOW_GROWTH'] = 'true'\n",
        "### Configs --> Parameters you can attempt to tuning\n",
        "MAXLEN = 50 # If you data has short sentence, please try lower MAXLEN in order to increase performance of model training\n",
        "EPOCHS = 20\n",
        "BATCH_SIZE = 64\n",
        "EMB_DIM = 200\n",
        "UNIT = 256\n",
        "example = 53"
      ],
      "execution_count": 1,
      "outputs": []
    },
    {
      "cell_type": "markdown",
      "metadata": {
        "id": "8lLCGfzUKF4f"
      },
      "source": [
        "# load Data"
      ]
    },
    {
      "cell_type": "code",
      "source": [
        "!git clone https://github.com/doudou030/C_Chat_Chatbot.git\n",
        "!cp C_Chat_Chatbot/train_data/train.txt train.txt\n",
        "!cp C_Chat_Chatbot/train_data/train.json train.json"
      ],
      "metadata": {
        "colab": {
          "base_uri": "https://localhost:8080/"
        },
        "id": "tQA4WATUztA4",
        "outputId": "0aec20d9-c5e9-4721-f3ef-46281b6fea18"
      },
      "execution_count": 2,
      "outputs": [
        {
          "output_type": "stream",
          "name": "stdout",
          "text": [
            "Cloning into 'C_Chat_Chatbot'...\n",
            "remote: Enumerating objects: 48, done.\u001b[K\n",
            "remote: Counting objects: 100% (48/48), done.\u001b[K\n",
            "remote: Compressing objects: 100% (43/43), done.\u001b[K\n",
            "remote: Total 48 (delta 12), reused 0 (delta 0), pack-reused 0\u001b[K\n",
            "Unpacking objects: 100% (48/48), 15.52 MiB | 4.48 MiB/s, done.\n"
          ]
        }
      ]
    },
    {
      "cell_type": "code",
      "metadata": {
        "id": "ULVJIEKq0uBW",
        "colab": {
          "base_uri": "https://localhost:8080/"
        },
        "outputId": "d6fd91b9-b38a-491f-c2c8-74d785335f32"
      },
      "source": [
        "q_data = []\n",
        "a_data = []\n",
        "f = open('/content/train.txt')\n",
        "lines = f.readlines() #總共行數\n",
        "for line in lines:\n",
        "    line = line.strip()\n",
        "    if line.startswith('Q:'):\n",
        "        q_data.append(line[3:])\n",
        "    elif line.startswith('A:'):\n",
        "        a_data.append(line[3:])\n",
        "f.close\n",
        "\n",
        "# 如果說第一個有空格就去掉\n",
        "for i in range(len(q_data)):\n",
        "  q_data[i] = q_data[i].lstrip()\n",
        "  a_data[i] = a_data[i].lstrip()\n",
        "\n",
        "# 用jieba去掉一些不必要的字\n",
        "# print(\"original :\" + q_data[example])\n",
        "for i in range(len(q_data)):\n",
        "  q_data[i] = jieba.lcut(q_data[i])\n",
        "  q_data[i] = [q_data[i] for q_data[i] in q_data[i] if re.match(r'^[\\u4e00-\\u9fa5a-zA-Z0-9]+$', q_data[i])]\n",
        "  q_data[i] = ''.join(q_data[i])\n",
        "  a_data[i] = jieba.lcut(a_data[i])\n",
        "  a_data[i] = [a_data[i] for a_data[i] in a_data[i] if re.match(r'^[\\u4e00-\\u9fa5a-zA-Z0-9]+$', a_data[i])]\n",
        "  a_data[i] = ''.join(a_data[i])\n",
        "# print(\"這是jieba的 :\" + q_data[example])\n",
        "\n",
        "# 轉成nparray並打亂\n",
        "q_data = np.array(q_data)\n",
        "a_data = np.array(a_data)\n",
        "q_data, a_data = shuffle(q_data,a_data)\n",
        "\n",
        "q, a = [], []\n",
        "for i in range(len(q_data)):\n",
        "  seq_q, seq_a = q_data[i], a_data[i]\n",
        "  q.append(\"\".join(seq_q))\n",
        "  a.append(\"\".join(seq_a))\n",
        "\n",
        "for i in range(5):\n",
        "  print(q[i])\n",
        "  print(a[i])"
      ],
      "execution_count": 3,
      "outputs": [
        {
          "output_type": "stream",
          "name": "stderr",
          "text": [
            "Building prefix dict from the default dictionary ...\n",
            "DEBUG:jieba:Building prefix dict from the default dictionary ...\n",
            "Dumping model to file cache /tmp/jieba.cache\n",
            "DEBUG:jieba:Dumping model to file cache /tmp/jieba.cache\n",
            "Loading model cost 0.867 seconds.\n",
            "DEBUG:jieba:Loading model cost 0.867 seconds.\n",
            "Prefix dict has been built successfully.\n",
            "DEBUG:jieba:Prefix dict has been built successfully.\n"
          ]
        },
        {
          "output_type": "stream",
          "name": "stdout",
          "text": [
            "有沒有幸運會心爆擊流的角色\n",
            "怕傷害不夠的我把爆率也稱滿了\n",
            "床上有個蘿莉\n",
            "請問這是AI畫的嗎\n",
            "有多少人把終局之戰當成MCU的結局了\n",
            "也差不多了新出的都\n",
            "閃電霹靂車comingsoon\n",
            "SEED劇場版確定會出了嗎\n",
            "2023動畫瘋冬季榜第八週\n",
            "真不愧是暗影大人\n"
          ]
        }
      ]
    },
    {
      "cell_type": "code",
      "source": [
        "print(len(q))\n",
        "print(len(a))"
      ],
      "metadata": {
        "colab": {
          "base_uri": "https://localhost:8080/"
        },
        "id": "nhcN-4T75nXf",
        "outputId": "b9a108cc-cfd6-4e7c-9ae5-d5d3f0b144f4"
      },
      "execution_count": 4,
      "outputs": [
        {
          "output_type": "stream",
          "name": "stdout",
          "text": [
            "49478\n",
            "49478\n"
          ]
        }
      ]
    },
    {
      "cell_type": "markdown",
      "metadata": {
        "id": "wWp4HpRTkTyZ"
      },
      "source": [
        "# Tokenizer"
      ]
    },
    {
      "cell_type": "code",
      "metadata": {
        "id": "ijlnqTrDkTVT"
      },
      "source": [
        "### Build character-based vocabulary\n",
        "def tokenize_chinese(texts, voc, voc_ind):\n",
        "    for t in tqdm(texts):\n",
        "        for ch in str(t):\n",
        "            if ch not in voc:\n",
        "                voc[ch] = voc_ind\n",
        "                voc_ind += 1\n",
        "    return voc, voc_ind"
      ],
      "execution_count": 5,
      "outputs": []
    },
    {
      "cell_type": "code",
      "source": [
        "voc = {} # Vocabulary dictionary\n",
        "voc_ind = 1 # vocabulary index start from 1, index 0 means nothing\n",
        "\n",
        "voc, voc_ind = tokenize_chinese(q, voc, voc_ind)\n",
        "voc, voc_ind = tokenize_chinese(a, voc, voc_ind)"
      ],
      "metadata": {
        "colab": {
          "base_uri": "https://localhost:8080/"
        },
        "id": "1TL8aadezMMC",
        "outputId": "03b63f46-e690-4748-beff-8c69ab7bc9be"
      },
      "execution_count": 6,
      "outputs": [
        {
          "output_type": "stream",
          "name": "stderr",
          "text": [
            "100%|██████████| 49478/49478 [00:00<00:00, 537614.82it/s]\n",
            "100%|██████████| 49478/49478 [00:00<00:00, 666024.07it/s]\n"
          ]
        }
      ]
    },
    {
      "cell_type": "markdown",
      "source": [
        "# data preprocessing"
      ],
      "metadata": {
        "id": "Daa4CTL82eWI"
      }
    },
    {
      "cell_type": "code",
      "metadata": {
        "id": "8gNdd144kosm"
      },
      "source": [
        "def fit_sentence(sen, voc):\n",
        "    res = []\n",
        "    for i in sen:\n",
        "        res.append(voc[i])\n",
        "    return res"
      ],
      "execution_count": 7,
      "outputs": []
    },
    {
      "cell_type": "code",
      "metadata": {
        "id": "T5di4_qskXru"
      },
      "source": [
        "### Insert \"Start Of Sentence\" token into vocabulary\n",
        "voc[\"<SOS>\"] = len(voc)+1\n",
        "### Insert \"End Of Sentence\" token into vocabulary\n",
        "voc[\"<EOS>\"] = len(voc)+1"
      ],
      "execution_count": 8,
      "outputs": []
    },
    {
      "cell_type": "code",
      "source": [
        "q_x = []\n",
        "ans_x, ans_y = [], []"
      ],
      "metadata": {
        "id": "LSfPi2jF0iEL"
      },
      "execution_count": 9,
      "outputs": []
    },
    {
      "cell_type": "code",
      "source": [
        "### Question input\n",
        "for i in tqdm(q):\n",
        "    res = fit_sentence(i, voc)\n",
        "    while len(res) < MAXLEN: ### If sentence is shorter than maxlen, append 0 until length reach maxlen\n",
        "        res.append(0)\n",
        "    q_x.append(res)"
      ],
      "metadata": {
        "colab": {
          "base_uri": "https://localhost:8080/"
        },
        "id": "fKWEkvAc0jF6",
        "outputId": "238ea350-38ba-428a-e6be-54d293ac3e76"
      },
      "execution_count": 10,
      "outputs": [
        {
          "output_type": "stream",
          "name": "stderr",
          "text": [
            "100%|██████████| 49478/49478 [00:00<00:00, 95404.67it/s]\n"
          ]
        }
      ]
    },
    {
      "cell_type": "code",
      "source": [
        "### Answer input\n",
        "for i in tqdm(a):\n",
        "    res = fit_sentence(i, voc)\n",
        "    res.insert(0,voc[\"<SOS>\"])\n",
        "    res.append(voc[\"<EOS>\"])\n",
        "    while len(res) < MAXLEN: ### If sentence is shorter than maxlen, append 0 until length reach maxlen\n",
        "        res.append(0)\n",
        "    ans_x.append(res)"
      ],
      "metadata": {
        "colab": {
          "base_uri": "https://localhost:8080/"
        },
        "id": "I39Qkl-q0pja",
        "outputId": "4283a60d-534d-45ea-c842-0ba1390de3b4"
      },
      "execution_count": 11,
      "outputs": [
        {
          "output_type": "stream",
          "name": "stderr",
          "text": [
            "100%|██████████| 49478/49478 [00:00<00:00, 57132.30it/s]\n"
          ]
        }
      ]
    },
    {
      "cell_type": "code",
      "source": [
        "### Answer output\n",
        "for i in ans_x:\n",
        "    tmp = i[1:]\n",
        "    tmp.append(0)\n",
        "    ans_y.append(tmp)"
      ],
      "metadata": {
        "id": "V6L5I8gw0uc1"
      },
      "execution_count": 12,
      "outputs": []
    },
    {
      "cell_type": "code",
      "source": [
        "### Turn into np.array for training\n",
        "q_x = np.array(q_x)\n",
        "ans_x = np.array(ans_x)\n",
        "ans_y = np.array(ans_y)"
      ],
      "metadata": {
        "id": "p21tK9s50xsT"
      },
      "execution_count": 13,
      "outputs": []
    },
    {
      "cell_type": "markdown",
      "metadata": {
        "id": "I7Er55MSAl5T"
      },
      "source": [
        "# Model"
      ]
    },
    {
      "cell_type": "code",
      "metadata": {
        "id": "uJkAeP-eoF6f"
      },
      "source": [
        "def build_model(voc):\n",
        "    Q_in = Input((MAXLEN,),name='Q_input')\n",
        "    Q_emb = Embedding(len(voc)+1,EMB_DIM,mask_zero=True,name='Q_emb')(Q_in)\n",
        "    Q_out, Q_h, Q_c = LSTM(UNIT,return_state=True,recurrent_dropout=0.2,name='Q_LSTM')(Q_emb)\n",
        "    Q_state = [Q_h,Q_c]\n",
        "    A_in = Input((MAXLEN,),name='A_input')\n",
        "    A_emb = Embedding(len(voc)+1,EMB_DIM,mask_zero=True,name='A_emb')(A_in)\n",
        "    A_out = LSTM(UNIT,return_sequences=True,recurrent_dropout=0.2,name='A_LSTM')(A_emb,initial_state=Q_state)\n",
        "    output = Dense(len(voc)+1,activation='softmax',name='Output')(A_out)\n",
        "\n",
        "    model = Model(inputs=[Q_in,A_in],outputs=output,name='ChatBot')\n",
        "\n",
        "    return model"
      ],
      "execution_count": 14,
      "outputs": []
    },
    {
      "cell_type": "code",
      "metadata": {
        "colab": {
          "base_uri": "https://localhost:8080/",
          "height": 1000
        },
        "id": "AQ6HCEd7xKi1",
        "outputId": "8f09e808-f880-4fdf-e6c5-e849bd0a02fc"
      },
      "source": [
        "model = build_model(voc)\n",
        "model.summary()\n",
        "model.compile(loss='sparse_categorical_crossentropy',optimizer='adam',metrics=['accuracy'])\n",
        "tf.keras.utils.plot_model(model,show_shapes=True)\n"
      ],
      "execution_count": 15,
      "outputs": [
        {
          "output_type": "stream",
          "name": "stdout",
          "text": [
            "Model: \"ChatBot\"\n",
            "__________________________________________________________________________________________________\n",
            " Layer (type)                   Output Shape         Param #     Connected to                     \n",
            "==================================================================================================\n",
            " Q_input (InputLayer)           [(None, 50)]         0           []                               \n",
            "                                                                                                  \n",
            " A_input (InputLayer)           [(None, 50)]         0           []                               \n",
            "                                                                                                  \n",
            " Q_emb (Embedding)              (None, 50, 200)      891000      ['Q_input[0][0]']                \n",
            "                                                                                                  \n",
            " A_emb (Embedding)              (None, 50, 200)      891000      ['A_input[0][0]']                \n",
            "                                                                                                  \n",
            " Q_LSTM (LSTM)                  [(None, 256),        467968      ['Q_emb[0][0]']                  \n",
            "                                 (None, 256),                                                     \n",
            "                                 (None, 256)]                                                     \n",
            "                                                                                                  \n",
            " A_LSTM (LSTM)                  (None, 50, 256)      467968      ['A_emb[0][0]',                  \n",
            "                                                                  'Q_LSTM[0][1]',                 \n",
            "                                                                  'Q_LSTM[0][2]']                 \n",
            "                                                                                                  \n",
            " Output (Dense)                 (None, 50, 4455)     1144935     ['A_LSTM[0][0]']                 \n",
            "                                                                                                  \n",
            "==================================================================================================\n",
            "Total params: 3,862,871\n",
            "Trainable params: 3,862,871\n",
            "Non-trainable params: 0\n",
            "__________________________________________________________________________________________________\n"
          ]
        },
        {
          "output_type": "execute_result",
          "data": {
            "image/png": "[encoded data removed]",
            "text/plain": [
              "<IPython.core.display.Image object>"
            ]
          },
          "metadata": {},
          "execution_count": 15
        }
      ]
    },
    {
      "cell_type": "code",
      "source": [
        "### Callbacks --> Checkpoint: Change file path to the directory where you want to save your model\n",
        "checkpoint = ModelCheckpoint(filepath=\"'chatbot.h5'\", monitor='accuracy',verbose=1,save_best_only=True,save_weights_only=True)\n",
        "### Callbacks --> Earlystop: Monitor accuracy and decide whether to stop the training procedure\n",
        "earlystop = EarlyStopping(monitor='accuracy',patience=3,verbose=1)\n",
        "\n",
        "### If you have model trained before, you can load it back and continue previous training procedure\n",
        "try:\n",
        "    model.load_weights('chatbot.h5')\n",
        "    print(\"Load model...\")\n",
        "### If you haven't train any model yet, train model from initial\n",
        "except:\n",
        "    print(\"Fail to load pretrained model...\")\n",
        "\n",
        "### Train your mode l\n",
        "model.fit((q_x, ans_x), ans_y, batch_size=BATCH_SIZE,epochs=EPOCHS,callbacks=[checkpoint, earlystop],verbose=1)"
      ],
      "metadata": {
        "colab": {
          "base_uri": "https://localhost:8080/"
        },
        "id": "xCgJ1y6w1YHq",
        "outputId": "d46c0c1c-0b3b-474c-b474-1ba9791c0bbd"
      },
      "execution_count": 16,
      "outputs": [
        {
          "output_type": "stream",
          "name": "stdout",
          "text": [
            "Fail to load pretrained model...\n",
            "Epoch 1/20\n",
            "49/49 [==============================] - ETA: 0s - loss: 6.5325 - accuracy: 0.0944 \n",
            "Epoch 1: accuracy improved from -inf to 0.09443, saving model to 'chatbot.h5'\n",
            "49/49 [==============================] - 1020s 21s/step - loss: 6.5325 - accuracy: 0.0944\n",
            "Epoch 2/20\n",
            "49/49 [==============================] - ETA: 0s - loss: 5.6906 - accuracy: 0.1377 \n",
            "Epoch 2: accuracy improved from 0.09443 to 0.13772, saving model to 'chatbot.h5'\n",
            "49/49 [==============================] - 1027s 21s/step - loss: 5.6906 - accuracy: 0.1377\n",
            "Epoch 3/20\n",
            "49/49 [==============================] - ETA: 0s - loss: 5.4882 - accuracy: 0.1872 \n",
            "Epoch 3: accuracy improved from 0.13772 to 0.18717, saving model to 'chatbot.h5'\n",
            "49/49 [==============================] - 1019s 21s/step - loss: 5.4882 - accuracy: 0.1872\n",
            "Epoch 4/20\n",
            "49/49 [==============================] - ETA: 0s - loss: 5.3790 - accuracy: 0.1914 \n",
            "Epoch 4: accuracy improved from 0.18717 to 0.19136, saving model to 'chatbot.h5'\n",
            "49/49 [==============================] - 1022s 21s/step - loss: 5.3790 - accuracy: 0.1914\n",
            "Epoch 5/20\n",
            "49/49 [==============================] - ETA: 0s - loss: 5.2785 - accuracy: 0.2004 \n",
            "Epoch 5: accuracy improved from 0.19136 to 0.20045, saving model to 'chatbot.h5'\n",
            "49/49 [==============================] - 1033s 21s/step - loss: 5.2785 - accuracy: 0.2004\n",
            "Epoch 6/20\n",
            "49/49 [==============================] - ETA: 0s - loss: 5.1739 - accuracy: 0.2109 \n",
            "Epoch 6: accuracy improved from 0.20045 to 0.21093, saving model to 'chatbot.h5'\n",
            "49/49 [==============================] - 1037s 21s/step - loss: 5.1739 - accuracy: 0.2109\n",
            "Epoch 7/20\n",
            "49/49 [==============================] - ETA: 0s - loss: 5.0690 - accuracy: 0.2160 \n",
            "Epoch 7: accuracy improved from 0.21093 to 0.21603, saving model to 'chatbot.h5'\n",
            "49/49 [==============================] - 1021s 21s/step - loss: 5.0690 - accuracy: 0.2160\n",
            "Epoch 8/20\n",
            "49/49 [==============================] - ETA: 0s - loss: 4.9714 - accuracy: 0.2266 \n",
            "Epoch 8: accuracy improved from 0.21603 to 0.22664, saving model to 'chatbot.h5'\n",
            "49/49 [==============================] - 1037s 21s/step - loss: 4.9714 - accuracy: 0.2266\n",
            "Epoch 9/20\n",
            "49/49 [==============================] - ETA: 0s - loss: 4.8872 - accuracy: 0.2387 \n",
            "Epoch 9: accuracy improved from 0.22664 to 0.23867, saving model to 'chatbot.h5'\n",
            "49/49 [==============================] - 1041s 21s/step - loss: 4.8872 - accuracy: 0.2387\n",
            "Epoch 10/20\n",
            "49/49 [==============================] - ETA: 0s - loss: 4.8172 - accuracy: 0.2457 \n",
            "Epoch 10: accuracy improved from 0.23867 to 0.24574, saving model to 'chatbot.h5'\n",
            "49/49 [==============================] - 1034s 21s/step - loss: 4.8172 - accuracy: 0.2457\n",
            "Epoch 11/20\n",
            "49/49 [==============================] - ETA: 0s - loss: 4.7588 - accuracy: 0.2491 \n",
            "Epoch 11: accuracy improved from 0.24574 to 0.24906, saving model to 'chatbot.h5'\n",
            "49/49 [==============================] - 1021s 21s/step - loss: 4.7588 - accuracy: 0.2491\n",
            "Epoch 12/20\n",
            "49/49 [==============================] - ETA: 0s - loss: 4.7074 - accuracy: 0.2534 \n",
            "Epoch 12: accuracy improved from 0.24906 to 0.25341, saving model to 'chatbot.h5'\n",
            "49/49 [==============================] - 1016s 21s/step - loss: 4.7074 - accuracy: 0.2534\n",
            "Epoch 13/20\n",
            "49/49 [==============================] - ETA: 0s - loss: 4.6599 - accuracy: 0.2584 \n",
            "Epoch 13: accuracy improved from 0.25341 to 0.25836, saving model to 'chatbot.h5'\n",
            "49/49 [==============================] - 1027s 21s/step - loss: 4.6599 - accuracy: 0.2584\n",
            "Epoch 14/20\n",
            "49/49 [==============================] - ETA: 0s - loss: 4.6156 - accuracy: 0.2630 \n",
            "Epoch 14: accuracy improved from 0.25836 to 0.26299, saving model to 'chatbot.h5'\n",
            "49/49 [==============================] - 1016s 21s/step - loss: 4.6156 - accuracy: 0.2630\n",
            "Epoch 15/20\n",
            "49/49 [==============================] - ETA: 0s - loss: 4.5736 - accuracy: 0.2672 \n",
            "Epoch 15: accuracy improved from 0.26299 to 0.26715, saving model to 'chatbot.h5'\n",
            "49/49 [==============================] - 1013s 21s/step - loss: 4.5736 - accuracy: 0.2672\n",
            "Epoch 16/20\n",
            "49/49 [==============================] - ETA: 0s - loss: 4.5338 - accuracy: 0.2712 \n",
            "Epoch 16: accuracy improved from 0.26715 to 0.27122, saving model to 'chatbot.h5'\n",
            "49/49 [==============================] - 1015s 21s/step - loss: 4.5338 - accuracy: 0.2712\n",
            "Epoch 17/20\n",
            "49/49 [==============================] - ETA: 0s - loss: 4.4961 - accuracy: 0.2749 \n",
            "Epoch 17: accuracy improved from 0.27122 to 0.27494, saving model to 'chatbot.h5'\n",
            "49/49 [==============================] - 1017s 21s/step - loss: 4.4961 - accuracy: 0.2749\n",
            "Epoch 18/20\n",
            "49/49 [==============================] - ETA: 0s - loss: 4.4607 - accuracy: 0.2785 \n",
            "Epoch 18: accuracy improved from 0.27494 to 0.27854, saving model to 'chatbot.h5'\n",
            "49/49 [==============================] - 1014s 21s/step - loss: 4.4607 - accuracy: 0.2785\n",
            "Epoch 19/20\n",
            "49/49 [==============================] - ETA: 0s - loss: 4.4276 - accuracy: 0.2819 \n",
            "Epoch 19: accuracy improved from 0.27854 to 0.28186, saving model to 'chatbot.h5'\n",
            "49/49 [==============================] - 1012s 21s/step - loss: 4.4276 - accuracy: 0.2819\n",
            "Epoch 20/20\n",
            "49/49 [==============================] - ETA: 0s - loss: 4.3956 - accuracy: 0.2846 \n",
            "Epoch 20: accuracy improved from 0.28186 to 0.28461, saving model to 'chatbot.h5'\n",
            "49/49 [==============================] - 1014s 21s/step - loss: 4.3956 - accuracy: 0.2846\n"
          ]
        },
        {
          "output_type": "execute_result",
          "data": {
            "text/plain": [
              "<keras.callbacks.History at 0x7f4fd9194310>"
            ]
          },
          "metadata": {},
          "execution_count": 16
        }
      ]
    },
    {
      "cell_type": "code",
      "metadata": {
        "id": "7hdfBilcAs9l"
      },
      "source": [
        "model.save('chatbot.h5')"
      ],
      "execution_count": 17,
      "outputs": []
    },
    {
      "cell_type": "markdown",
      "metadata": {
        "id": "Lmw1vMUBu1_l"
      },
      "source": [
        "# Inference"
      ]
    },
    {
      "cell_type": "code",
      "metadata": {
        "id": "5nIopkIqgBHe"
      },
      "source": [
        "import os\n",
        "import numpy as np\n",
        "import pandas as pd\n",
        "\n",
        "os.environ['TF_FORCE_GPU_ALLOW_GROWTH'] = 'true'\n",
        "### Configs\n",
        "MAXLEN = 32 ### MAXLEN should be same as the MAXLEN you use in previous training\n"
      ],
      "execution_count": 18,
      "outputs": []
    },
    {
      "cell_type": "code",
      "metadata": {
        "id": "zSSstxDBu7Xc",
        "colab": {
          "base_uri": "https://localhost:8080/"
        },
        "outputId": "21d00cc8-faf6-4924-cf98-7fd16ec5f8d7"
      },
      "source": [
        "def load_model():\n",
        "    voc = {} # Vocabulary dictionary\n",
        "    voc_ind = 1 # vocabulary index start from 1, index 0 means nothing\n",
        "    ### Import your training data for re-build vocabulary\n",
        "    q_data = []\n",
        "    a_data = []\n",
        "    f = open('/content/train.txt')\n",
        "    lines = f.readlines() #總共行數\n",
        "    for line in lines:\n",
        "        line = line.strip()\n",
        "        if line.startswith('Q:'):\n",
        "            q_data.append(line[3:])\n",
        "        elif line.startswith('A:'):\n",
        "            a_data.append(line[3:])\n",
        "    f.close\n",
        "\n",
        "    # 如果說第一個有空格就去掉\n",
        "    for i in range(len(q_data)):\n",
        "      q_data[i] = q_data[i].lstrip()\n",
        "      a_data[i] = a_data[i].lstrip()\n",
        "\n",
        "    # 用jieba去掉一些不必要的字\n",
        "    for i in range(len(q_data)):\n",
        "      q_data[i] = jieba.lcut(q_data[i])\n",
        "      q_data[i] = [q_data[i] for q_data[i] in q_data[i] if re.match(r'^[\\u4e00-\\u9fa5a-zA-Z0-9]+$', q_data[i])]\n",
        "      q_data[i] = ''.join(q_data[i])\n",
        "      a_data[i] = jieba.lcut(a_data[i])\n",
        "      a_data[i] = [a_data[i] for a_data[i] in a_data[i] if re.match(r'^[\\u4e00-\\u9fa5a-zA-Z0-9]+$', a_data[i])]\n",
        "      a_data[i] = ''.join(a_data[i])\n",
        "\n",
        "    # 轉成nparray並打亂\n",
        "    q_data = np.array(q_data)\n",
        "    a_data = np.array(a_data)\n",
        "    q_data, a_data = shuffle(q_data,a_data)\n",
        "\n",
        "    q, a = [], []\n",
        "    for i in range(len(q_data)):\n",
        "      seq_q, seq_a = q_data[i], a_data[i]\n",
        "      q.append(\"\".join(seq_q))\n",
        "      a.append(\"\".join(seq_a))\n",
        "\n",
        "    ### Re-build vocabulary\n",
        "    voc, voc_ind = tokenize_chinese(q, voc, voc_ind)\n",
        "    voc, voc_ind = tokenize_chinese(a, voc, voc_ind)\n",
        "    voc[\"<SOS>\"] = len(voc)+1\n",
        "    voc[\"<EOS>\"] = len(voc)+1\n",
        "    ind_voc = {}\n",
        "    for k, v in voc.items():\n",
        "        ind_voc[v] = k\n",
        "\n",
        "    ### Build model and load the weight\n",
        "    model = build_model(voc)\n",
        "    model.load_weights('/content/chatbot.h5')\n",
        "\n",
        "    return voc, ind_voc, model\n",
        "\n",
        "voc, ind_voc, model = load_model()"
      ],
      "execution_count": 19,
      "outputs": [
        {
          "output_type": "stream",
          "name": "stderr",
          "text": [
            "100%|██████████| 49478/49478 [00:00<00:00, 292536.21it/s]\n",
            "100%|██████████| 49478/49478 [00:00<00:00, 336175.39it/s]\n"
          ]
        }
      ]
    },
    {
      "cell_type": "code",
      "metadata": {
        "id": "pethzqn5XoqR"
      },
      "source": [
        "def single_predict(input_text, voc, ind_voc, model):\n",
        "    ### Answer input initial state --> [<SOS>] --> [4977, 0, 0, 0,...]\n",
        "    ans_input = np.zeros((1,MAXLEN),dtype='int64')\n",
        "    ans_input[0,0] = voc[\"<SOS>\"]\n",
        "\n",
        "    ### Convert your question into number label\n",
        "    res = fit_sentence(input_text, voc)\n",
        "    while len(res) < MAXLEN: # If sentence is shorter than maxlen, append 0 until length reach maxlen\n",
        "        res.append(0)\n",
        "    question = np.array([res])\n",
        "\n",
        "    ind = 0\n",
        "    ### Stop condition: 1. Prediction until MAXLEN, 2. Output '<EOS>' or 0\n",
        "    while (ans_input[0][ind] != voc['<EOS>'] or ans_input[0][ind] != 0) and ind < MAXLEN-1:\n",
        "        ind += 1\n",
        "        pred = model.predict([question, ans_input],verbose=0)\n",
        "        res = np.argmax(pred,axis=-1) # Get highest probabilty index of character in vocabulary\n",
        "        ans_input[0,ind] = res[0][ind]\n",
        "    ### Convert prediction into human language\n",
        "    ans = \"\"\n",
        "    # print(ans_input[0][1:])\n",
        "    for i in ans_input[0][1:]:\n",
        "        if i == 0 or i == voc['<EOS>']:\n",
        "            break\n",
        "        ans += ind_voc[i]\n",
        "    return str(ans) # Return string --> Send string back to ngrok and forwarding to Line"
      ],
      "execution_count": 20,
      "outputs": []
    },
    {
      "cell_type": "code",
      "source": [
        "while True:\n",
        "        question = input('請說: ')\n",
        "        if question == '88': ### Input '88' means terminate the chatbot\n",
        "            print('再見')\n",
        "            break\n",
        "        res = single_predict(question, voc, ind_voc, model)\n",
        "        print(res)"
      ],
      "metadata": {
        "id": "nnXbdIOWPtrh",
        "colab": {
          "base_uri": "https://localhost:8080/"
        },
        "outputId": "425d61e9-c949-4fe9-c790-133f77c03239"
      },
      "execution_count": 21,
      "outputs": [
        {
          "output_type": "stream",
          "name": "stdout",
          "text": [
            "請說: 我推\n",
            "社想社\n",
            "請說: 床上有個蘿莉\n",
            "美哀社美哀\n",
            "請說: 2023動畫瘋\n",
            "美哀社美哀\n",
            "請說: 88\n",
            "再見\n"
          ]
        }
      ]
    }
  ]
}
